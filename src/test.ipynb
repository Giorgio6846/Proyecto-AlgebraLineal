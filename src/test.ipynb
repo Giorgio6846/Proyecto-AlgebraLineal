{
 "cells": [
  {
   "cell_type": "code",
   "execution_count": 15,
   "metadata": {},
   "outputs": [
    {
     "name": "stdout",
     "output_type": "stream",
     "text": [
      "[[ 2.  3.  2.  4.]\n",
      " [ 4. 10. -4.  0.]\n",
      " [-3. -2. -5. -2.]\n",
      " [-2.  4.  4. -7.]]\n",
      "<class 'numpy.ndarray'>\n",
      "(array([[ 1.        ,  0.        ,  0.        ,  0.        ],\n",
      "       [ 2.        ,  1.        ,  0.        ,  0.        ],\n",
      "       [-1.5       ,  0.625     ,  1.        ,  0.        ],\n",
      "       [-1.        ,  1.75      ,  6.66666667,  1.        ]]), array([[  2.,   3.,   2.,   4.],\n",
      "       [  0.,   4.,  -8.,  -8.],\n",
      "       [  0.,   0.,   3.,   9.],\n",
      "       [  0.,   0.,   0., -49.]]))\n",
      "\n",
      "(array([[1., 0., 0., 0.],\n",
      "       [0., 1., 0., 0.],\n",
      "       [0., 0., 1., 0.],\n",
      "       [0., 0., 0., 1.]]), array([[ 1.        ,  0.        ,  0.        ,  0.        ],\n",
      "       [ 2.        ,  1.        ,  0.        ,  0.        ],\n",
      "       [-1.5       ,  0.625     ,  1.        ,  0.        ],\n",
      "       [-1.        ,  1.75      ,  6.66666667,  1.        ]]), array([[  2.,   3.,   2.,   4.],\n",
      "       [  0.,   4.,  -8.,  -8.],\n",
      "       [  0.,   0.,   3.,   9.],\n",
      "       [  0.,   0.,   0., -49.]]))\n"
     ]
    }
   ],
   "source": [
    "import numpy as np\n",
    "import random\n",
    "import scipy.linalg as la\n",
    "\n",
    "#arr = np.array([[random.randint(1, 100) for x in range(0, 10)] for y in range(0, 10)])\n",
    "arr = np.array([[2,3,2,4],[4,10,-4,0],[-3,-2,-5,-2],[-2,4,4,-7]])\n",
    "arr = arr.astype(float)\n",
    "print(arr)\n",
    "\n",
    "\n",
    "\n",
    "def lu(A):\n",
    "\n",
    "    # Get the number of rows\n",
    "    n = A.shape[0]\n",
    "\n",
    "    U = A.copy()\n",
    "    L = np.eye(n, dtype=np.double)\n",
    "\n",
    "    # Loop over rows\n",
    "    for i in range(n):\n",
    "\n",
    "        # Eliminate entries below i with row operations\n",
    "        # on U and reverse the row operations to\n",
    "        # manipulate L\n",
    "        factor = U[i + 1 :, i] / U[i, i]\n",
    "        L[i + 1 :, i] = factor\n",
    "        U[i + 1 :] -= factor[:, np.newaxis] * U[i]\n",
    "\n",
    "    return L, U\n",
    "\n",
    "\n",
    "def plu(A):\n",
    "\n",
    "    # Get the number of rows\n",
    "    n = A.shape[0]\n",
    "\n",
    "    # Allocate space for P, L, and U\n",
    "    U = A.copy()\n",
    "    L = np.eye(n, dtype=np.double)\n",
    "    P = np.eye(n, dtype=np.double)\n",
    "\n",
    "    # Loop over rows\n",
    "    for i in range(n):\n",
    "\n",
    "        # Permute rows if needed\n",
    "        for k in range(i, n):\n",
    "            if ~np.isclose(U[i, i], 0.0):\n",
    "                break\n",
    "            U[[k, k + 1]] = U[[k + 1, k]]\n",
    "            P[[k, k + 1]] = P[[k + 1, k]]\n",
    "\n",
    "        # Eliminate entries below i with row\n",
    "        # operations on U and #reverse the row\n",
    "        # operations to manipulate L\n",
    "        factor = U[i + 1 :, i] / U[i, i]\n",
    "        L[i + 1 :, i] = factor\n",
    "        U[i + 1 :] -= factor[:, np.newaxis] * U[i]\n",
    "\n",
    "    return P, L, U\n",
    "\n",
    "\n",
    "print(type(arr))\n",
    "print(lu(arr))\n",
    "print()\n",
    "print(plu(arr))"
   ]
  },
  {
   "cell_type": "code",
   "execution_count": 7,
   "metadata": {},
   "outputs": [
    {
     "name": "stdout",
     "output_type": "stream",
     "text": [
      "[[0. 0. 0. 0. 0. 0. 0. 0. 0. 0.]\n",
      " [0. 0. 0. 0. 0. 0. 0. 0. 0. 0.]\n",
      " [0. 0. 0. 0. 0. 0. 0. 0. 0. 0.]\n",
      " [0. 0. 0. 0. 0. 0. 0. 0. 0. 0.]\n",
      " [0. 0. 0. 0. 0. 0. 0. 0. 0. 0.]\n",
      " [0. 0. 0. 0. 0. 0. 0. 0. 0. 0.]\n",
      " [0. 0. 0. 0. 0. 0. 0. 0. 0. 0.]\n",
      " [0. 0. 0. 0. 0. 0. 0. 0. 0. 0.]\n",
      " [0. 0. 0. 0. 0. 0. 0. 0. 0. 0.]\n",
      " [0. 0. 0. 0. 0. 0. 0. 0. 0. 0.]]\n",
      "[[ 11.  74.  74.   2.  35.   0.   0.   0.   0.   0.]\n",
      " [ 75.  98.   6.  85.  53.   0.   0.   0.   0.   0.]\n",
      " [ 46.  35.  53.  87.  14.   0.   0.   0.   0.   0.]\n",
      " [ 11.  41. 100.  36.  72.   0.   0.   0.   0.   0.]\n",
      " [ 46.  56.  97.  12.  69.   0.   0.   0.   0.   0.]\n",
      " [  0.   0.   0.   0.   0.   0.   0.   0.   0.   0.]\n",
      " [  0.   0.   0.   0.   0.   0.   0.   0.   0.   0.]\n",
      " [  0.   0.   0.   0.   0.   0.   0.   0.   0.   0.]\n",
      " [  0.   0.   0.   0.   0.   0.   0.   0.   0.   0.]\n",
      " [  0.   0.   0.   0.   0.   0.   0.   0.   0.   0.]]\n"
     ]
    }
   ],
   "source": [
    "import numpy as np\n",
    "import scipy as sp\n",
    "import random\n",
    "\n",
    "matrix = np.zeros(shape = (10,10))\n",
    "print(matrix)\n",
    "\n",
    "def matrixRand(matrix, num):\n",
    "  for row in range(0,num):\n",
    "    for col in range(0,num):\n",
    "      matrix[row][col] = random.randint(0,100)\n",
    "\n",
    "  return matrix    \n",
    "\n",
    "matrix = matrixRand(matrix, 5)\n",
    "print(matrix)"
   ]
  },
  {
   "cell_type": "code",
   "execution_count": 9,
   "metadata": {},
   "outputs": [
    {
     "name": "stdout",
     "output_type": "stream",
     "text": [
      "[[ 11.  74.  74.   2.  35.]\n",
      " [ 75.  98.   6.  85.  53.]\n",
      " [ 46.  35.  53.  87.  14.]\n",
      " [ 11.  41. 100.  36.  72.]\n",
      " [ 46.  56.  97.  12.  69.]]\n"
     ]
    }
   ],
   "source": [
    "def matrixCalc(matrix, num):\n",
    "  matrixTMP = np.zeros(shape = (num, num))\n",
    "  \n",
    "  for row in range(0, num):\n",
    "    for col in range(0, num):\n",
    "      matrixTMP[row][col] = matrix[row][col]\n",
    "      \n",
    "  return matrixTMP\n",
    "\n",
    "matrixReady = matrixCalc(matrix, 5)\n",
    "print(matrixReady)\n",
    "\n",
    "def LUCalc(matrix):\n",
    "  print()\n",
    "  \n",
    "def PLUCalc(matrix):\n",
    "  print()\n",
    "  \n",
    "  "
   ]
  }
 ],
 "metadata": {
  "kernelspec": {
   "display_name": "AlgebraLineal",
   "language": "python",
   "name": "python3"
  },
  "language_info": {
   "codemirror_mode": {
    "name": "ipython",
    "version": 3
   },
   "file_extension": ".py",
   "mimetype": "text/x-python",
   "name": "python",
   "nbconvert_exporter": "python",
   "pygments_lexer": "ipython3",
   "version": "3.11.5"
  }
 },
 "nbformat": 4,
 "nbformat_minor": 2
}
